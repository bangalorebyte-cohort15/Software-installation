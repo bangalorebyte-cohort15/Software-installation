{
 "cells": [
  {
   "cell_type": "markdown",
   "metadata": {},
   "source": [
    "# Software installation"
   ]
  },
  {
   "cell_type": "markdown",
   "metadata": {},
   "source": [
    "### Linux\n",
    "#### python comes with preinstalled in ubuntu 14+\n",
    "1)Download anaconda\n",
    "https://www.anaconda.com/download/\n",
    "2)chmod +x\n",
    "3)\n",
    "\n",
    "                OR\n",
    "Go to home directory\n",
    "cd ~\n",
    "wget https://repo.continuum.io/archive/Anaconda3-4.2.0-Linux-x86_64.sh <br>\n",
    "bash Anaconda3-4.2.0-Linux-x86_64.sh -b -p ~/anaconda  <br>\n",
    "rm Anaconda3-4.2.0-Linux-x86_64.sh  <br>\n",
    "echo 'export PATH=\"~/anaconda/bin:$PATH\"' >> ~/.bashrc       \n",
    "\n",
    "# Refresh basically\n",
    "source .bashrc\n",
    "\n",
    "conda update conda\n",
    "    "
   ]
  },
  {
   "cell_type": "markdown",
   "metadata": {},
   "source": [
    "### Windows:\n",
    "    Python and  Anaconda\n",
    "https://www.python.org/downloads/\n",
    "\n",
    "https://www.anaconda.com/download/\n"
   ]
  },
  {
   "cell_type": "markdown",
   "metadata": {},
   "source": [
    "#### Mac os:\n",
    "    Same as Windows"
   ]
  },
  {
   "cell_type": "markdown",
   "metadata": {},
   "source": [
    "checking installation"
   ]
  },
  {
   "cell_type": "code",
   "execution_count": 5,
   "metadata": {},
   "outputs": [
    {
     "name": "stdout",
     "output_type": "stream",
     "text": [
      "Python: 3.6.6 |Anaconda, Inc.| (default, Jun 28 2018, 17:14:51) \n",
      "[GCC 7.2.0]\n",
      "scipy: <module 'scipy.version' from '/home/pradip/miniconda3/envs/bellora/lib/python3.6/site-packages/scipy/version.py'>\n",
      "numpy: <module 'numpy.version' from '/home/pradip/miniconda3/envs/bellora/lib/python3.6/site-packages/numpy/version.py'>\n",
      "matplotlib: 3.0.0\n",
      "pandas: 0.23.4\n"
     ]
    }
   ],
   "source": [
    "# Python version\n",
    "import sys\n",
    "print('Python: {}'.format(sys.version))\n",
    "# scipy\n",
    "import scipy\n",
    "print('scipy: {}'.format(scipy.version))\n",
    "# numpy\n",
    "import numpy\n",
    "print('numpy: {}'.format(numpy.version))\n",
    "# matplotlib\n",
    "import matplotlib\n",
    "print('matplotlib: {}'.format(matplotlib.__version__))\n",
    "# pandas\n",
    "import pandas\n",
    "print('pandas: {}'.format(pandas.__version__))\n",
    "# scikit-learn\n"
   ]
  },
  {
   "cell_type": "markdown",
   "metadata": {},
   "source": [
    "### sklearn package\n",
    "conda install -c anaconda scikit-learn \n",
    "\n"
   ]
  },
  {
   "cell_type": "code",
   "execution_count": 7,
   "metadata": {},
   "outputs": [
    {
     "name": "stdout",
     "output_type": "stream",
     "text": [
      "sklearn: 0.20.0\n"
     ]
    }
   ],
   "source": [
    "# check package\n",
    "import sklearn\n",
    "print('sklearn: {}'.format(sklearn.__version__))"
   ]
  },
  {
   "cell_type": "markdown",
   "metadata": {},
   "source": [
    "### keras install\n",
    "conda install -c conda-forge keras "
   ]
  },
  {
   "cell_type": "markdown",
   "metadata": {},
   "source": [
    "### if you get error it means given package  not install you can install using \"conda\" command"
   ]
  }
 ],
 "metadata": {
  "kernelspec": {
   "display_name": "Python (bellora)",
   "language": "python",
   "name": "bellora"
  },
  "language_info": {
   "codemirror_mode": {
    "name": "ipython",
    "version": 3
   },
   "file_extension": ".py",
   "mimetype": "text/x-python",
   "name": "python",
   "nbconvert_exporter": "python",
   "pygments_lexer": "ipython3",
   "version": "3.6.6"
  }
 },
 "nbformat": 4,
 "nbformat_minor": 2
}
